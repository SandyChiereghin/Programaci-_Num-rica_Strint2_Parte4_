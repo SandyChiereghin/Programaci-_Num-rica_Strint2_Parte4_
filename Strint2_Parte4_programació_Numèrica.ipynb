{
 "cells": [
  {
   "cell_type": "markdown",
   "id": "4d683417-4984-4eb8-a71f-86c6fbf41b5b",
   "metadata": {},
   "source": [
    "#### Exercici 1\n",
    "Crea una funció que donat un Array d’una dimensió, et faci un resum estadístic bàsic de les dades. Si detecta que l’array té més d’una dimensió, ha de mostrar un missatge d’error."
   ]
  },
  {
   "cell_type": "code",
   "execution_count": 28,
   "id": "0b7126d1-b4be-4c91-8a6b-eccf4926feb9",
   "metadata": {},
   "outputs": [
    {
     "name": "stdout",
     "output_type": "stream",
     "text": [
      "[1 2 4 7 9]\n",
      "El numero mayor es:  9\n",
      "La media es:  4.6\n"
     ]
    }
   ],
   "source": [
    "import numpy as np\n",
    "\n",
    "array = np.array ([1,2,4,7,9])\n",
    "print (array)\n",
    "if array.ndim > 1:\n",
    "    print(\"Error\")\n",
    "else: \n",
    "    print(\"El numero mayor es: \",array.max())\n",
    "    sumArray= 0\n",
    "    media = 0\n",
    "\n",
    "    for i in array:\n",
    "        sumArray= sumArray + i\n",
    "    \n",
    "    media = sumArray/ len(array)\n",
    "\n",
    "    print(\"La media es: \",media)"
   ]
  },
  {
   "cell_type": "markdown",
   "id": "923fb387",
   "metadata": {},
   "source": [
    "#### Exercici 2\n",
    "Crea una funció que et generi un quadrat NxN de nombres aleatoris entre el 0 i el 100."
   ]
  },
  {
   "cell_type": "code",
   "execution_count": 12,
   "id": "1d71b9a7",
   "metadata": {},
   "outputs": [
    {
     "name": "stdout",
     "output_type": "stream",
     "text": [
      "[[71 41 62 44 65]\n",
      " [68 87 12  0 13]\n",
      " [66 82 58 94 37]\n",
      " [43 85  7 53  2]\n",
      " [78 11 58  9 58]]\n"
     ]
    }
   ],
   "source": [
    "array2= np.random.randint(0,100, size=(5,5))\n",
    "print(array2)"
   ]
  },
  {
   "cell_type": "markdown",
   "id": "c03385dc",
   "metadata": {},
   "source": [
    "#### Exercici 3\n",
    "Crea una funció que donada una taula de dues dimensions, et calculi els totals per fila i els totals per columna."
   ]
  },
  {
   "cell_type": "code",
   "execution_count": 7,
   "id": "0ee6bfac",
   "metadata": {},
   "outputs": [
    {
     "name": "stdout",
     "output_type": "stream",
     "text": [
      "[[ 7  8  7  4 15]\n",
      " [16  6  4  2 12]\n",
      " [15  3 12  1 17]]\n",
      "La dimension del array es:  2\n",
      "La forma del array es:  (3, 5)\n",
      "[38 17 23  7 44]\n",
      "[41 40 48]\n"
     ]
    }
   ],
   "source": [
    "import numpy as np\n",
    "array2d= np.random.randint(1,20, size=(3,5))\n",
    "print(array2d)\n",
    "\n",
    "print(\"La dimension del array es: \",array2d.ndim)\n",
    "print(\"La forma del array es: \",array2d.shape)\n",
    "\n",
    "sumaColumnas = np.sum(array2d, axis=0)\n",
    "sumaFilas = np.sum(array2d, axis=1)\n",
    "print (sumaColumnas)\n",
    "print (sumaFilas)"
   ]
  },
  {
   "cell_type": "markdown",
   "id": "b731f406",
   "metadata": {},
   "source": [
    "#### Exercici 4\n",
    "\n",
    "Implementa manualment una funció que calculi el coeficient de correlació. Informa’t-en sobre els seus usos i interpretació."
   ]
  },
  {
   "cell_type": "code",
   "execution_count": 63,
   "id": "a344e146",
   "metadata": {},
   "outputs": [
    {
     "name": "stdout",
     "output_type": "stream",
     "text": [
      "[[1.         0.82184663]\n",
      " [0.82184663 1.        ]]\n",
      "-----------\n",
      "0.822\n"
     ]
    }
   ],
   "source": [
    "x = np.array ([3,6,7,13])\n",
    "y = np.array ([4,8,3,13])\n",
    "\n",
    "coe = np.corrcoef(x, y)\n",
    "\n",
    "print (coe)\n",
    "\n",
    "print (\"-----------\")\n",
    "\n",
    "def coefficienteC (x, y): \n",
    "    mediaX = sum(x)/len(x)\n",
    "    mediaY = sum(y)/len(y)\n",
    "\n",
    "    cov = sum((a - mediaX) * (b - mediaY) for (a,b) in zip(x,y)) / len(x)\n",
    "\n",
    "    stDevX = (sum((a - mediaX)**2 for a in x)/len(x))**0.5\n",
    "    stDevY = (sum((b - mediaY)**2 for b in y)/len(y))**0.5\n",
    "\n",
    "    result = round(cov/(stDevX*stDevY),3)\n",
    "\n",
    "    return result\n",
    "\n",
    "print (coefficienteC (x, y))"
   ]
  },
  {
   "cell_type": "markdown",
   "id": "2f87d1e4",
   "metadata": {},
   "source": [
    "The Pearson correlation coefficient measures the linear association between variables. Its value can be interpreted like so:\n",
    "\n",
    "+1 - Complete positive correlation\n",
    "+0.8 - Strong positive correlation\n",
    "+0.6 - Moderate positive correlation\n",
    "0 - no correlation whatsoever\n",
    "-0.6 - Moderate negative correlation\n",
    "-0.8 - Strong negative correlation\n",
    "-1 - Complete negative correlation\n",
    "\n",
    "En el caso analizado el coeficiente de correlacion nos proporciona un resultado de correlación positiva en la que las dos variable se mueven en una dirección cresciente y tienen un coefficiente de correlación positivo FUERTE, esto quere decir que las dos variables tienen un alto grado de influencia reciproco."
   ]
  }
 ],
 "metadata": {
  "kernelspec": {
   "display_name": "Python 3 (ipykernel)",
   "language": "python",
   "name": "python3"
  },
  "language_info": {
   "codemirror_mode": {
    "name": "ipython",
    "version": 3
   },
   "file_extension": ".py",
   "mimetype": "text/x-python",
   "name": "python",
   "nbconvert_exporter": "python",
   "pygments_lexer": "ipython3",
   "version": "3.9.7"
  }
 },
 "nbformat": 4,
 "nbformat_minor": 5
}
